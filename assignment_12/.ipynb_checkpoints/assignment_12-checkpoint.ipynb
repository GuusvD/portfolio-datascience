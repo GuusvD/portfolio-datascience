{
 "cells": [
  {
   "cell_type": "code",
   "execution_count": 2,
   "id": "b30f8d24",
   "metadata": {},
   "outputs": [
    {
     "ename": "NameError",
     "evalue": "name 'pd' is not defined",
     "output_type": "error",
     "traceback": [
      "\u001b[1;31m---------------------------------------------------------------------------\u001b[0m",
      "\u001b[1;31mNameError\u001b[0m                                 Traceback (most recent call last)",
      "\u001b[1;32m~\\AppData\\Local\\Temp\\ipykernel_12784\\4118120729.py\u001b[0m in \u001b[0;36m<module>\u001b[1;34m\u001b[0m\n\u001b[0;32m      3\u001b[0m \u001b[1;32mimport\u001b[0m \u001b[0mseaborn\u001b[0m \u001b[1;32mas\u001b[0m \u001b[0msns\u001b[0m\u001b[1;33m\u001b[0m\u001b[1;33m\u001b[0m\u001b[0m\n\u001b[0;32m      4\u001b[0m \u001b[1;32mimport\u001b[0m \u001b[0mscipy\u001b[0m\u001b[1;33m.\u001b[0m\u001b[0mstats\u001b[0m \u001b[1;32mas\u001b[0m \u001b[0mst\u001b[0m\u001b[1;33m\u001b[0m\u001b[1;33m\u001b[0m\u001b[0m\n\u001b[1;32m----> 5\u001b[1;33m \u001b[0mimdb\u001b[0m \u001b[1;33m=\u001b[0m \u001b[0mpd\u001b[0m\u001b[1;33m.\u001b[0m\u001b[0mread_csv\u001b[0m\u001b[1;33m(\u001b[0m\u001b[1;34m'imdb_top_1000.csv'\u001b[0m\u001b[1;33m,\u001b[0m \u001b[0msep\u001b[0m\u001b[1;33m=\u001b[0m\u001b[1;34m','\u001b[0m\u001b[1;33m)\u001b[0m\u001b[1;33m\u001b[0m\u001b[1;33m\u001b[0m\u001b[0m\n\u001b[0m",
      "\u001b[1;31mNameError\u001b[0m: name 'pd' is not defined"
     ]
    }
   ],
   "source": [
    "## Perform a biveriate analysis on at least 3 combinations of a numerical column with a categorical column in the dataset that\n",
    "## you chose in portfolio assignment 4.\n",
    "import seaborn as sns\n",
    "import pandas as pd\n",
    "import scipy.stats as st\n",
    "imdb = pd.read_csv('imdb_top_1000.csv', sep=',')"
   ]
  },
  {
   "cell_type": "code",
   "execution_count": null,
   "id": "54e74e42",
   "metadata": {},
   "outputs": [],
   "source": [
    "imdb.head()"
   ]
  },
  {
   "cell_type": "code",
   "execution_count": null,
   "id": "d14038aa",
   "metadata": {
    "scrolled": false
   },
   "outputs": [],
   "source": [
    "## Use .groupby('columnname').mean() to calculate the means.\n",
    "## Is there a difference between categories?\n",
    "imdb.groupby(\"Certificate\").mean()\n",
    "\n",
    "## As can be seen from the table there is only a statistically significant difference between Certificate and No_of_Votes.\n",
    "## There are however some noticible differences when looking at the IMDB_Rating and Meta_score in combination with Certificates.\n",
    "## That is why I have also created bar plots for those attributes."
   ]
  },
  {
   "cell_type": "code",
   "execution_count": null,
   "id": "778b3f64",
   "metadata": {
    "scrolled": false
   },
   "outputs": [],
   "source": [
    "sns.barplot(y=\"IMDB_Rating\", x=\"Certificate\", data=imdb)"
   ]
  },
  {
   "cell_type": "code",
   "execution_count": null,
   "id": "1e7be406",
   "metadata": {},
   "outputs": [],
   "source": [
    "nonNaNimdb = imdb.dropna()\n",
    "sns.barplot(y=\"Meta_score\", x=\"Certificate\", data=nonNaNimdb)"
   ]
  },
  {
   "cell_type": "code",
   "execution_count": null,
   "id": "4e415b0d",
   "metadata": {
    "scrolled": false
   },
   "outputs": [],
   "source": [
    "sns.barplot(y=\"No_of_Votes\", x=\"Certificate\", data=imdb)"
   ]
  },
  {
   "cell_type": "code",
   "execution_count": null,
   "id": "b854fab0",
   "metadata": {},
   "outputs": [],
   "source": []
  }
 ],
 "metadata": {
  "kernelspec": {
   "display_name": "Python 3 (ipykernel)",
   "language": "python",
   "name": "python3"
  },
  "language_info": {
   "codemirror_mode": {
    "name": "ipython",
    "version": 3
   },
   "file_extension": ".py",
   "mimetype": "text/x-python",
   "name": "python",
   "nbconvert_exporter": "python",
   "pygments_lexer": "ipython3",
   "version": "3.9.13"
  }
 },
 "nbformat": 4,
 "nbformat_minor": 5
}
