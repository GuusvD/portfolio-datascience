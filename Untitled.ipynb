{
 "cells": [
  {
   "cell_type": "code",
   "execution_count": 1,
   "id": "afcb23e5",
   "metadata": {},
   "outputs": [],
   "source": [
    "def func(x):\n",
    "    if x % 2 == 0:\n",
    "        return x / 2\n",
    "    else:\n",
    "        return x + 1\n",
    "\n",
    "b = 1"
   ]
  },
  {
   "cell_type": "code",
   "execution_count": 2,
   "id": "fd78fd52",
   "metadata": {},
   "outputs": [],
   "source": [
    "class klas:\n",
    "    def __init__(self):\n",
    "        self.val = 3.34\n",
    "        \n",
    "    def aStaticMethod():\n",
    "        return 1\n",
    "    \n",
    "    def aNonStaticMethod(self):\n",
    "        return self.val"
   ]
  },
  {
   "cell_type": "code",
   "execution_count": null,
   "id": "7d2c8dba",
   "metadata": {},
   "outputs": [],
   "source": []
  }
 ],
 "metadata": {
  "kernelspec": {
   "display_name": "Python 3 (ipykernel)",
   "language": "python",
   "name": "python3"
  },
  "language_info": {
   "codemirror_mode": {
    "name": "ipython",
    "version": 3
   },
   "file_extension": ".py",
   "mimetype": "text/x-python",
   "name": "python",
   "nbconvert_exporter": "python",
   "pygments_lexer": "ipython3",
   "version": "3.9.13"
  }
 },
 "nbformat": 4,
 "nbformat_minor": 5
}
